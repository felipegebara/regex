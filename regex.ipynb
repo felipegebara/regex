{
 "cells": [
  {
   "cell_type": "code",
   "execution_count": 8,
   "metadata": {},
   "outputs": [],
   "source": [
    "import pandas as pd \n",
    "import numpy as np\n",
    "import re\n"
   ]
  },
  {
   "cell_type": "markdown",
   "metadata": {},
   "source": [
    "import da base"
   ]
  },
  {
   "cell_type": "code",
   "execution_count": 9,
   "metadata": {},
   "outputs": [],
   "source": [
    "base=pd.read_csv('regex.csv')"
   ]
  },
  {
   "cell_type": "markdown",
   "metadata": {},
   "source": [
    "na base temos esse layout basico onde temos um protocolo e um campo mensagem onde o operador escreve em um campo texto o novo email, novo telefone"
   ]
  },
  {
   "cell_type": "markdown",
   "metadata": {},
   "source": [
    "temos 2 problemas: \n",
    "1 o protocolo pode estar quebrado em  varias linhas \n",
    "2 extrair numeros e o email dester campos\n"
   ]
  },
  {
   "cell_type": "code",
   "execution_count": 10,
   "metadata": {},
   "outputs": [
    {
     "data": {
      "text/html": [
       "<div>\n",
       "<style scoped>\n",
       "    .dataframe tbody tr th:only-of-type {\n",
       "        vertical-align: middle;\n",
       "    }\n",
       "\n",
       "    .dataframe tbody tr th {\n",
       "        vertical-align: top;\n",
       "    }\n",
       "\n",
       "    .dataframe thead th {\n",
       "        text-align: right;\n",
       "    }\n",
       "</style>\n",
       "<table border=\"1\" class=\"dataframe\">\n",
       "  <thead>\n",
       "    <tr style=\"text-align: right;\">\n",
       "      <th></th>\n",
       "      <th>PROTOCOLO</th>\n",
       "      <th>MENSAGEM</th>\n",
       "    </tr>\n",
       "  </thead>\n",
       "  <tbody>\n",
       "    <tr>\n",
       "      <th>0</th>\n",
       "      <td>111111</td>\n",
       "      <td>TROCA DE EMAIL , EMAIL NOVO ABC@GMAIL.COM</td>\n",
       "    </tr>\n",
       "    <tr>\n",
       "      <th>1</th>\n",
       "      <td>111111</td>\n",
       "      <td>EMAIL ANTIGO ABC1@GMAIL.COM</td>\n",
       "    </tr>\n",
       "    <tr>\n",
       "      <th>2</th>\n",
       "      <td>111112</td>\n",
       "      <td># TEL (22)9994-9999</td>\n",
       "    </tr>\n",
       "    <tr>\n",
       "      <th>3</th>\n",
       "      <td>111113</td>\n",
       "      <td>EMAIL NOVO TRRRRR@EMAIL.COM EMAAIL ANTIGO RTTT...</td>\n",
       "    </tr>\n",
       "    <tr>\n",
       "      <th>4</th>\n",
       "      <td>111113</td>\n",
       "      <td>TELEFONE NOVO 119999-9999</td>\n",
       "    </tr>\n",
       "    <tr>\n",
       "      <th>5</th>\n",
       "      <td>111113</td>\n",
       "      <td># TEL (99)9993-9995</td>\n",
       "    </tr>\n",
       "    <tr>\n",
       "      <th>6</th>\n",
       "      <td>111114</td>\n",
       "      <td>FONE ANTIGO 119888899 PARA 210999999</td>\n",
       "    </tr>\n",
       "    <tr>\n",
       "      <th>7</th>\n",
       "      <td>111115</td>\n",
       "      <td>TROCA DE EMAIL , EMAIL NOVO NEWEAMIL@GMAIL.COM</td>\n",
       "    </tr>\n",
       "  </tbody>\n",
       "</table>\n",
       "</div>"
      ],
      "text/plain": [
       "   PROTOCOLO                                           MENSAGEM\n",
       "0     111111          TROCA DE EMAIL , EMAIL NOVO ABC@GMAIL.COM\n",
       "1     111111                        EMAIL ANTIGO ABC1@GMAIL.COM\n",
       "2     111112                                # TEL (22)9994-9999\n",
       "3     111113  EMAIL NOVO TRRRRR@EMAIL.COM EMAAIL ANTIGO RTTT...\n",
       "4     111113                          TELEFONE NOVO 119999-9999\n",
       "5     111113                                # TEL (99)9993-9995\n",
       "6     111114               FONE ANTIGO 119888899 PARA 210999999\n",
       "7     111115     TROCA DE EMAIL , EMAIL NOVO NEWEAMIL@GMAIL.COM"
      ]
     },
     "execution_count": 10,
     "metadata": {},
     "output_type": "execute_result"
    }
   ],
   "source": [
    "base"
   ]
  },
  {
   "cell_type": "markdown",
   "metadata": {},
   "source": [
    "primeiro segmentamos os valores em lista "
   ]
  },
  {
   "cell_type": "code",
   "execution_count": 11,
   "metadata": {},
   "outputs": [],
   "source": [
    "df=base.groupby(['PROTOCOLO'])['MENSAGEM'].apply(lambda x:x.values.flatten() )\n",
    "melt=pd.DataFrame(df.values.tolist(),index=df.index).add_prefix('mensagem_')"
   ]
  },
  {
   "cell_type": "code",
   "execution_count": 12,
   "metadata": {},
   "outputs": [
    {
     "data": {
      "text/html": [
       "<div>\n",
       "<style scoped>\n",
       "    .dataframe tbody tr th:only-of-type {\n",
       "        vertical-align: middle;\n",
       "    }\n",
       "\n",
       "    .dataframe tbody tr th {\n",
       "        vertical-align: top;\n",
       "    }\n",
       "\n",
       "    .dataframe thead th {\n",
       "        text-align: right;\n",
       "    }\n",
       "</style>\n",
       "<table border=\"1\" class=\"dataframe\">\n",
       "  <thead>\n",
       "    <tr style=\"text-align: right;\">\n",
       "      <th></th>\n",
       "      <th>mensagem_0</th>\n",
       "      <th>mensagem_1</th>\n",
       "      <th>mensagem_2</th>\n",
       "    </tr>\n",
       "    <tr>\n",
       "      <th>PROTOCOLO</th>\n",
       "      <th></th>\n",
       "      <th></th>\n",
       "      <th></th>\n",
       "    </tr>\n",
       "  </thead>\n",
       "  <tbody>\n",
       "    <tr>\n",
       "      <th>111111</th>\n",
       "      <td>TROCA DE EMAIL , EMAIL NOVO ABC@GMAIL.COM</td>\n",
       "      <td>EMAIL ANTIGO ABC1@GMAIL.COM</td>\n",
       "      <td>None</td>\n",
       "    </tr>\n",
       "    <tr>\n",
       "      <th>111112</th>\n",
       "      <td># TEL (22)9994-9999</td>\n",
       "      <td>None</td>\n",
       "      <td>None</td>\n",
       "    </tr>\n",
       "    <tr>\n",
       "      <th>111113</th>\n",
       "      <td>EMAIL NOVO TRRRRR@EMAIL.COM EMAAIL ANTIGO RTTT...</td>\n",
       "      <td>TELEFONE NOVO 119999-9999</td>\n",
       "      <td># TEL (99)9993-9995</td>\n",
       "    </tr>\n",
       "    <tr>\n",
       "      <th>111114</th>\n",
       "      <td>FONE ANTIGO 119888899 PARA 210999999</td>\n",
       "      <td>None</td>\n",
       "      <td>None</td>\n",
       "    </tr>\n",
       "    <tr>\n",
       "      <th>111115</th>\n",
       "      <td>TROCA DE EMAIL , EMAIL NOVO NEWEAMIL@GMAIL.COM</td>\n",
       "      <td>None</td>\n",
       "      <td>None</td>\n",
       "    </tr>\n",
       "  </tbody>\n",
       "</table>\n",
       "</div>"
      ],
      "text/plain": [
       "                                                  mensagem_0  \\\n",
       "PROTOCOLO                                                      \n",
       "111111             TROCA DE EMAIL , EMAIL NOVO ABC@GMAIL.COM   \n",
       "111112                                   # TEL (22)9994-9999   \n",
       "111113     EMAIL NOVO TRRRRR@EMAIL.COM EMAAIL ANTIGO RTTT...   \n",
       "111114                  FONE ANTIGO 119888899 PARA 210999999   \n",
       "111115        TROCA DE EMAIL , EMAIL NOVO NEWEAMIL@GMAIL.COM   \n",
       "\n",
       "                            mensagem_1           mensagem_2  \n",
       "PROTOCOLO                                                    \n",
       "111111     EMAIL ANTIGO ABC1@GMAIL.COM                 None  \n",
       "111112                            None                 None  \n",
       "111113       TELEFONE NOVO 119999-9999  # TEL (99)9993-9995  \n",
       "111114                            None                 None  \n",
       "111115                            None                 None  "
      ]
     },
     "execution_count": 12,
     "metadata": {},
     "output_type": "execute_result"
    }
   ],
   "source": [
    "melt"
   ]
  },
  {
   "cell_type": "markdown",
   "metadata": {},
   "source": [
    "concatenamos os campos "
   ]
  },
  {
   "cell_type": "code",
   "execution_count": 13,
   "metadata": {},
   "outputs": [],
   "source": [
    "melt['descricao']=melt['mensagem_0'].astype(str)+' * '+ melt['mensagem_1'].astype(str)+' * '+melt['mensagem_2'].astype(str)"
   ]
  },
  {
   "cell_type": "markdown",
   "metadata": {},
   "source": [
    "indexando a base"
   ]
  },
  {
   "cell_type": "code",
   "execution_count": 14,
   "metadata": {},
   "outputs": [
    {
     "data": {
      "text/html": [
       "<div>\n",
       "<style scoped>\n",
       "    .dataframe tbody tr th:only-of-type {\n",
       "        vertical-align: middle;\n",
       "    }\n",
       "\n",
       "    .dataframe tbody tr th {\n",
       "        vertical-align: top;\n",
       "    }\n",
       "\n",
       "    .dataframe thead th {\n",
       "        text-align: right;\n",
       "    }\n",
       "</style>\n",
       "<table border=\"1\" class=\"dataframe\">\n",
       "  <thead>\n",
       "    <tr style=\"text-align: right;\">\n",
       "      <th></th>\n",
       "      <th>MENSAGEM</th>\n",
       "    </tr>\n",
       "    <tr>\n",
       "      <th>PROTOCOLO</th>\n",
       "      <th></th>\n",
       "    </tr>\n",
       "  </thead>\n",
       "  <tbody>\n",
       "    <tr>\n",
       "      <th>111111</th>\n",
       "      <td>TROCA DE EMAIL , EMAIL NOVO ABC@GMAIL.COM</td>\n",
       "    </tr>\n",
       "    <tr>\n",
       "      <th>111111</th>\n",
       "      <td>EMAIL ANTIGO ABC1@GMAIL.COM</td>\n",
       "    </tr>\n",
       "    <tr>\n",
       "      <th>111112</th>\n",
       "      <td># TEL (22)9994-9999</td>\n",
       "    </tr>\n",
       "    <tr>\n",
       "      <th>111113</th>\n",
       "      <td>EMAIL NOVO TRRRRR@EMAIL.COM EMAAIL ANTIGO RTTT...</td>\n",
       "    </tr>\n",
       "    <tr>\n",
       "      <th>111113</th>\n",
       "      <td>TELEFONE NOVO 119999-9999</td>\n",
       "    </tr>\n",
       "    <tr>\n",
       "      <th>111113</th>\n",
       "      <td># TEL (99)9993-9995</td>\n",
       "    </tr>\n",
       "    <tr>\n",
       "      <th>111114</th>\n",
       "      <td>FONE ANTIGO 119888899 PARA 210999999</td>\n",
       "    </tr>\n",
       "    <tr>\n",
       "      <th>111115</th>\n",
       "      <td>TROCA DE EMAIL , EMAIL NOVO NEWEAMIL@GMAIL.COM</td>\n",
       "    </tr>\n",
       "  </tbody>\n",
       "</table>\n",
       "</div>"
      ],
      "text/plain": [
       "                                                    MENSAGEM\n",
       "PROTOCOLO                                                   \n",
       "111111             TROCA DE EMAIL , EMAIL NOVO ABC@GMAIL.COM\n",
       "111111                           EMAIL ANTIGO ABC1@GMAIL.COM\n",
       "111112                                   # TEL (22)9994-9999\n",
       "111113     EMAIL NOVO TRRRRR@EMAIL.COM EMAAIL ANTIGO RTTT...\n",
       "111113                             TELEFONE NOVO 119999-9999\n",
       "111113                                   # TEL (99)9993-9995\n",
       "111114                  FONE ANTIGO 119888899 PARA 210999999\n",
       "111115        TROCA DE EMAIL , EMAIL NOVO NEWEAMIL@GMAIL.COM"
      ]
     },
     "execution_count": 14,
     "metadata": {},
     "output_type": "execute_result"
    }
   ],
   "source": [
    "base.set_index('PROTOCOLO')"
   ]
  },
  {
   "cell_type": "markdown",
   "metadata": {},
   "source": [
    "juntando a base "
   ]
  },
  {
   "cell_type": "code",
   "execution_count": 15,
   "metadata": {},
   "outputs": [
    {
     "data": {
      "text/html": [
       "<div>\n",
       "<style scoped>\n",
       "    .dataframe tbody tr th:only-of-type {\n",
       "        vertical-align: middle;\n",
       "    }\n",
       "\n",
       "    .dataframe tbody tr th {\n",
       "        vertical-align: top;\n",
       "    }\n",
       "\n",
       "    .dataframe thead th {\n",
       "        text-align: right;\n",
       "    }\n",
       "</style>\n",
       "<table border=\"1\" class=\"dataframe\">\n",
       "  <thead>\n",
       "    <tr style=\"text-align: right;\">\n",
       "      <th></th>\n",
       "      <th>PROTOCOLO</th>\n",
       "      <th>MENSAGEM</th>\n",
       "      <th>mensagem_0</th>\n",
       "      <th>mensagem_1</th>\n",
       "      <th>mensagem_2</th>\n",
       "      <th>descricao</th>\n",
       "    </tr>\n",
       "  </thead>\n",
       "  <tbody>\n",
       "    <tr>\n",
       "      <th>0</th>\n",
       "      <td>111111</td>\n",
       "      <td>TROCA DE EMAIL , EMAIL NOVO ABC@GMAIL.COM</td>\n",
       "      <td>TROCA DE EMAIL , EMAIL NOVO ABC@GMAIL.COM</td>\n",
       "      <td>EMAIL ANTIGO ABC1@GMAIL.COM</td>\n",
       "      <td>None</td>\n",
       "      <td>TROCA DE EMAIL , EMAIL NOVO ABC@GMAIL.COM * EM...</td>\n",
       "    </tr>\n",
       "    <tr>\n",
       "      <th>1</th>\n",
       "      <td>111111</td>\n",
       "      <td>EMAIL ANTIGO ABC1@GMAIL.COM</td>\n",
       "      <td>TROCA DE EMAIL , EMAIL NOVO ABC@GMAIL.COM</td>\n",
       "      <td>EMAIL ANTIGO ABC1@GMAIL.COM</td>\n",
       "      <td>None</td>\n",
       "      <td>TROCA DE EMAIL , EMAIL NOVO ABC@GMAIL.COM * EM...</td>\n",
       "    </tr>\n",
       "    <tr>\n",
       "      <th>2</th>\n",
       "      <td>111112</td>\n",
       "      <td># TEL (22)9994-9999</td>\n",
       "      <td># TEL (22)9994-9999</td>\n",
       "      <td>None</td>\n",
       "      <td>None</td>\n",
       "      <td># TEL (22)9994-9999 * nan * nan</td>\n",
       "    </tr>\n",
       "    <tr>\n",
       "      <th>3</th>\n",
       "      <td>111113</td>\n",
       "      <td>EMAIL NOVO TRRRRR@EMAIL.COM EMAAIL ANTIGO RTTT...</td>\n",
       "      <td>EMAIL NOVO TRRRRR@EMAIL.COM EMAAIL ANTIGO RTTT...</td>\n",
       "      <td>TELEFONE NOVO 119999-9999</td>\n",
       "      <td># TEL (99)9993-9995</td>\n",
       "      <td>EMAIL NOVO TRRRRR@EMAIL.COM EMAAIL ANTIGO RTTT...</td>\n",
       "    </tr>\n",
       "    <tr>\n",
       "      <th>4</th>\n",
       "      <td>111113</td>\n",
       "      <td>TELEFONE NOVO 119999-9999</td>\n",
       "      <td>EMAIL NOVO TRRRRR@EMAIL.COM EMAAIL ANTIGO RTTT...</td>\n",
       "      <td>TELEFONE NOVO 119999-9999</td>\n",
       "      <td># TEL (99)9993-9995</td>\n",
       "      <td>EMAIL NOVO TRRRRR@EMAIL.COM EMAAIL ANTIGO RTTT...</td>\n",
       "    </tr>\n",
       "    <tr>\n",
       "      <th>5</th>\n",
       "      <td>111113</td>\n",
       "      <td># TEL (99)9993-9995</td>\n",
       "      <td>EMAIL NOVO TRRRRR@EMAIL.COM EMAAIL ANTIGO RTTT...</td>\n",
       "      <td>TELEFONE NOVO 119999-9999</td>\n",
       "      <td># TEL (99)9993-9995</td>\n",
       "      <td>EMAIL NOVO TRRRRR@EMAIL.COM EMAAIL ANTIGO RTTT...</td>\n",
       "    </tr>\n",
       "    <tr>\n",
       "      <th>6</th>\n",
       "      <td>111114</td>\n",
       "      <td>FONE ANTIGO 119888899 PARA 210999999</td>\n",
       "      <td>FONE ANTIGO 119888899 PARA 210999999</td>\n",
       "      <td>None</td>\n",
       "      <td>None</td>\n",
       "      <td>FONE ANTIGO 119888899 PARA 210999999 * nan * nan</td>\n",
       "    </tr>\n",
       "    <tr>\n",
       "      <th>7</th>\n",
       "      <td>111115</td>\n",
       "      <td>TROCA DE EMAIL , EMAIL NOVO NEWEAMIL@GMAIL.COM</td>\n",
       "      <td>TROCA DE EMAIL , EMAIL NOVO NEWEAMIL@GMAIL.COM</td>\n",
       "      <td>None</td>\n",
       "      <td>None</td>\n",
       "      <td>TROCA DE EMAIL , EMAIL NOVO NEWEAMIL@GMAIL.COM...</td>\n",
       "    </tr>\n",
       "  </tbody>\n",
       "</table>\n",
       "</div>"
      ],
      "text/plain": [
       "   PROTOCOLO                                           MENSAGEM  \\\n",
       "0     111111          TROCA DE EMAIL , EMAIL NOVO ABC@GMAIL.COM   \n",
       "1     111111                        EMAIL ANTIGO ABC1@GMAIL.COM   \n",
       "2     111112                                # TEL (22)9994-9999   \n",
       "3     111113  EMAIL NOVO TRRRRR@EMAIL.COM EMAAIL ANTIGO RTTT...   \n",
       "4     111113                          TELEFONE NOVO 119999-9999   \n",
       "5     111113                                # TEL (99)9993-9995   \n",
       "6     111114               FONE ANTIGO 119888899 PARA 210999999   \n",
       "7     111115     TROCA DE EMAIL , EMAIL NOVO NEWEAMIL@GMAIL.COM   \n",
       "\n",
       "                                          mensagem_0  \\\n",
       "0          TROCA DE EMAIL , EMAIL NOVO ABC@GMAIL.COM   \n",
       "1          TROCA DE EMAIL , EMAIL NOVO ABC@GMAIL.COM   \n",
       "2                                # TEL (22)9994-9999   \n",
       "3  EMAIL NOVO TRRRRR@EMAIL.COM EMAAIL ANTIGO RTTT...   \n",
       "4  EMAIL NOVO TRRRRR@EMAIL.COM EMAAIL ANTIGO RTTT...   \n",
       "5  EMAIL NOVO TRRRRR@EMAIL.COM EMAAIL ANTIGO RTTT...   \n",
       "6               FONE ANTIGO 119888899 PARA 210999999   \n",
       "7     TROCA DE EMAIL , EMAIL NOVO NEWEAMIL@GMAIL.COM   \n",
       "\n",
       "                    mensagem_1           mensagem_2  \\\n",
       "0  EMAIL ANTIGO ABC1@GMAIL.COM                 None   \n",
       "1  EMAIL ANTIGO ABC1@GMAIL.COM                 None   \n",
       "2                         None                 None   \n",
       "3    TELEFONE NOVO 119999-9999  # TEL (99)9993-9995   \n",
       "4    TELEFONE NOVO 119999-9999  # TEL (99)9993-9995   \n",
       "5    TELEFONE NOVO 119999-9999  # TEL (99)9993-9995   \n",
       "6                         None                 None   \n",
       "7                         None                 None   \n",
       "\n",
       "                                           descricao  \n",
       "0  TROCA DE EMAIL , EMAIL NOVO ABC@GMAIL.COM * EM...  \n",
       "1  TROCA DE EMAIL , EMAIL NOVO ABC@GMAIL.COM * EM...  \n",
       "2                    # TEL (22)9994-9999 * nan * nan  \n",
       "3  EMAIL NOVO TRRRRR@EMAIL.COM EMAAIL ANTIGO RTTT...  \n",
       "4  EMAIL NOVO TRRRRR@EMAIL.COM EMAAIL ANTIGO RTTT...  \n",
       "5  EMAIL NOVO TRRRRR@EMAIL.COM EMAAIL ANTIGO RTTT...  \n",
       "6   FONE ANTIGO 119888899 PARA 210999999 * nan * nan  \n",
       "7  TROCA DE EMAIL , EMAIL NOVO NEWEAMIL@GMAIL.COM...  "
      ]
     },
     "execution_count": 15,
     "metadata": {},
     "output_type": "execute_result"
    }
   ],
   "source": [
    "base_junta=base.join(melt,on='PROTOCOLO')\n",
    "base_junta"
   ]
  },
  {
   "cell_type": "markdown",
   "metadata": {},
   "source": [
    "dropando as colunas "
   ]
  },
  {
   "cell_type": "code",
   "execution_count": 16,
   "metadata": {},
   "outputs": [],
   "source": [
    "base_junta.drop(['MENSAGEM','mensagem_0','mensagem_1','mensagem_2'],axis=1, inplace=True)\n"
   ]
  },
  {
   "cell_type": "markdown",
   "metadata": {},
   "source": [
    "retirando duplicidade"
   ]
  },
  {
   "cell_type": "code",
   "execution_count": 93,
   "metadata": {},
   "outputs": [],
   "source": [
    "base_junta.drop_duplicates(keep='first',inplace=True)\n",
    "\n"
   ]
  },
  {
   "cell_type": "markdown",
   "metadata": {},
   "source": [
    "normalizando a base "
   ]
  },
  {
   "cell_type": "code",
   "execution_count": 94,
   "metadata": {},
   "outputs": [],
   "source": [
    "\n",
    "base_junta['descricao']=base_junta['descricao'].str.replace('(',' ')\n",
    "base_junta['descricao']=base_junta['descricao'].str.replace(')','')\n",
    "\n",
    "base_junta['descricao']=base_junta['descricao'].str.replace('-','')\n",
    "\n",
    "\n",
    "data=pd.DataFrame()"
   ]
  },
  {
   "cell_type": "code",
   "execution_count": 95,
   "metadata": {},
   "outputs": [
    {
     "data": {
      "text/html": [
       "<div>\n",
       "<style scoped>\n",
       "    .dataframe tbody tr th:only-of-type {\n",
       "        vertical-align: middle;\n",
       "    }\n",
       "\n",
       "    .dataframe tbody tr th {\n",
       "        vertical-align: top;\n",
       "    }\n",
       "\n",
       "    .dataframe thead th {\n",
       "        text-align: right;\n",
       "    }\n",
       "</style>\n",
       "<table border=\"1\" class=\"dataframe\">\n",
       "  <thead>\n",
       "    <tr style=\"text-align: right;\">\n",
       "      <th></th>\n",
       "      <th>PROTOCOLO</th>\n",
       "      <th>descricao</th>\n",
       "    </tr>\n",
       "  </thead>\n",
       "  <tbody>\n",
       "    <tr>\n",
       "      <th>0</th>\n",
       "      <td>111111</td>\n",
       "      <td>TROCA DE EMAIL , EMAIL NOVO ABC@GMAIL.COM * EM...</td>\n",
       "    </tr>\n",
       "    <tr>\n",
       "      <th>2</th>\n",
       "      <td>111112</td>\n",
       "      <td># TEL  2299949999 * nan * nan</td>\n",
       "    </tr>\n",
       "    <tr>\n",
       "      <th>3</th>\n",
       "      <td>111113</td>\n",
       "      <td>EMAIL NOVO TRRRRR@EMAIL.COM EMAAIL ANTIGO RTTT...</td>\n",
       "    </tr>\n",
       "    <tr>\n",
       "      <th>6</th>\n",
       "      <td>111114</td>\n",
       "      <td>FONE ANTIGO 119888899 PARA 210999999 * nan * nan</td>\n",
       "    </tr>\n",
       "    <tr>\n",
       "      <th>7</th>\n",
       "      <td>111115</td>\n",
       "      <td>TROCA DE EMAIL , EMAIL NOVO NEWEAMIL@GMAIL.COM...</td>\n",
       "    </tr>\n",
       "  </tbody>\n",
       "</table>\n",
       "</div>"
      ],
      "text/plain": [
       "   PROTOCOLO                                          descricao\n",
       "0     111111  TROCA DE EMAIL , EMAIL NOVO ABC@GMAIL.COM * EM...\n",
       "2     111112                      # TEL  2299949999 * nan * nan\n",
       "3     111113  EMAIL NOVO TRRRRR@EMAIL.COM EMAAIL ANTIGO RTTT...\n",
       "6     111114   FONE ANTIGO 119888899 PARA 210999999 * nan * nan\n",
       "7     111115  TROCA DE EMAIL , EMAIL NOVO NEWEAMIL@GMAIL.COM..."
      ]
     },
     "execution_count": 95,
     "metadata": {},
     "output_type": "execute_result"
    }
   ],
   "source": [
    "base_junta"
   ]
  },
  {
   "cell_type": "markdown",
   "metadata": {},
   "source": [
    "aplicando os regex "
   ]
  },
  {
   "cell_type": "code",
   "execution_count": 99,
   "metadata": {},
   "outputs": [
    {
     "name": "stdout",
     "output_type": "stream",
     "text": [
      "['1']\n",
      "['ABC@GMAIL.COM', 'ABC1@GMAIL.COM']\n",
      "['2299949999']\n",
      "[]\n",
      "['1199999999', '9999939995']\n",
      "['TRRRRR@EMAIL.COM', 'RTTTTT@EMAIL.COM']\n",
      "['119888899', '210999999']\n",
      "[]\n",
      "[]\n",
      "['NEWEAMIL@GMAIL.COM']\n"
     ]
    }
   ],
   "source": [
    "for val in base_junta.descricao:\n",
    "    email=re.findall(r'[\\w\\.-]+@[\\w\\.-]+(?:\\.[\\w]+)+',val)\n",
    "    phone=re.findall(r'\\d+',val)\n",
    "    print(phone)\n",
    "    print(email)\n",
    "    "
   ]
  }
 ],
 "metadata": {
  "kernelspec": {
   "display_name": "Python 3",
   "language": "python",
   "name": "python3"
  },
  "language_info": {
   "codemirror_mode": {
    "name": "ipython",
    "version": 3
   },
   "file_extension": ".py",
   "mimetype": "text/x-python",
   "name": "python",
   "nbconvert_exporter": "python",
   "pygments_lexer": "ipython3",
   "version": "3.8.5"
  }
 },
 "nbformat": 4,
 "nbformat_minor": 4
}
